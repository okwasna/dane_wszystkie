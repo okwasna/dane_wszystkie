{
  "nbformat": 4,
  "nbformat_minor": 0,
  "metadata": {
    "colab": {
      "provenance": [],
      "authorship_tag": "ABX9TyOuomkh5PWcVVAVXZnYygiC",
      "include_colab_link": true
    },
    "kernelspec": {
      "name": "python3",
      "display_name": "Python 3"
    },
    "language_info": {
      "name": "python"
    }
  },
  "cells": [
    {
      "cell_type": "markdown",
      "metadata": {
        "id": "view-in-github",
        "colab_type": "text"
      },
      "source": [
        "<a href=\"https://colab.research.google.com/github/okwasna/dane_wszystkie/blob/main/wersja_ostatnia_15_12.ipynb\" target=\"_parent\"><img src=\"https://colab.research.google.com/assets/colab-badge.svg\" alt=\"Open In Colab\"/></a>"
      ]
    },
    {
      "cell_type": "code",
      "execution_count": 1,
      "metadata": {
        "colab": {
          "base_uri": "https://localhost:8080/"
        },
        "id": "f_MEjcx6s94z",
        "outputId": "788dc24d-9c9c-4f1a-d229-6703703169d6"
      },
      "outputs": [
        {
          "output_type": "stream",
          "name": "stdout",
          "text": [
            "Requirement already satisfied: pandas in /usr/local/lib/python3.10/dist-packages (2.2.2)\n",
            "Requirement already satisfied: numpy>=1.22.4 in /usr/local/lib/python3.10/dist-packages (from pandas) (1.26.4)\n",
            "Requirement already satisfied: python-dateutil>=2.8.2 in /usr/local/lib/python3.10/dist-packages (from pandas) (2.8.2)\n",
            "Requirement already satisfied: pytz>=2020.1 in /usr/local/lib/python3.10/dist-packages (from pandas) (2024.2)\n",
            "Requirement already satisfied: tzdata>=2022.7 in /usr/local/lib/python3.10/dist-packages (from pandas) (2024.2)\n",
            "Requirement already satisfied: six>=1.5 in /usr/local/lib/python3.10/dist-packages (from python-dateutil>=2.8.2->pandas) (1.17.0)\n"
          ]
        }
      ],
      "source": [
        "pip install pandas\n"
      ]
    },
    {
      "cell_type": "code",
      "source": [
        "import numpy as np\n",
        "import pandas as pd\n",
        "import matplotlib.pyplot as plt\n",
        "from sklearn.cluster import KMeans, DBSCAN\n",
        "from sklearn.metrics import silhouette_samples, silhouette_score\n",
        "from sklearn.preprocessing import StandardScaler\n"
      ],
      "metadata": {
        "id": "KcN4QBNK3ukh"
      },
      "execution_count": 2,
      "outputs": []
    },
    {
      "cell_type": "code",
      "source": [
        "\n",
        "\n",
        "file_path = 'summary_htseq_norm2.xlsx'\n",
        "df = pd.read_excel(file_path, sheet_name='summary_htseq')\n",
        "\n",
        "print(f\"Liczba genów przed filtrowaniem: {len(df)}\")\n",
        "\n",
        "mean_before_filtering = df['var'].mean()\n",
        "variance_before_filtering = df['var'].var()\n",
        "\n",
        "print(f\"Średnia wariancji przed filtrowaniem: {mean_before_filtering}\")\n",
        "print(f\"Wariancja przed filtrowaniem: {variance_before_filtering}\")\n",
        "\n",
        "variance_threshold = 10\n",
        "\n",
        "df_filtered = df[df['var'] >= variance_threshold]\n",
        "\n",
        "mean_after_filtering = df_filtered['var'].mean()\n",
        "variance_after_filtering = df_filtered['var'].var()\n",
        "\n",
        "print(f\"Średnia wariancji po filtrowaniu: {mean_after_filtering}\")\n",
        "print(f\"Wariancja po filtrowaniu: {variance_after_filtering}\")\n",
        "\n",
        "initial_counts = df['lncRNA'].value_counts()\n",
        "\n",
        "filtered_counts = df_filtered['lncRNA'].value_counts()\n",
        "\n",
        "removed_counts = initial_counts - filtered_counts\n",
        "\n",
        "removed_0 = removed_counts.get(0, 0)\n",
        "removed_1 = removed_counts.get(1, 0)\n",
        "\n",
        "print(f\"Liczba genów usuniętych z lncRNA = 0: {removed_0}\")\n",
        "print(f\"Liczba genów usuniętych z lncRNA = 1: {removed_1}\")\n",
        "\n",
        "total_genes_after_filtering = len(df_filtered)\n",
        "print(f\"Łączna liczba genów po filtrowaniu: {total_genes_after_filtering}\")"
      ],
      "metadata": {
        "colab": {
          "base_uri": "https://localhost:8080/"
        },
        "id": "RysLK56jtWCf",
        "outputId": "085c67a8-3025-4e04-93ac-cf01285f2f26"
      },
      "execution_count": 3,
      "outputs": [
        {
          "output_type": "stream",
          "name": "stdout",
          "text": [
            "Liczba genów przed filtrowaniem: 28677\n",
            "Średnia wariancji przed filtrowaniem: 83837021.10925484\n",
            "Wariancja przed filtrowaniem: 1.4257388777828288e+20\n",
            "Średnia wariancji po filtrowaniu: 108068243.92073244\n",
            "Wariancja po filtrowaniu: 1.837809291273408e+20\n",
            "Liczba genów usuniętych z lncRNA = 0: 3473\n",
            "Liczba genów usuniętych z lncRNA = 1: 2957\n",
            "Łączna liczba genów po filtrowaniu: 22247\n"
          ]
        }
      ]
    },
    {
      "cell_type": "code",
      "source": [
        "print(f\"Liczba próbek (kolumn) branych pod uwagę do klastrowania: {df_filtered.shape[1]}\")\n",
        "print(f\"Liczba genów (wierszy) branych pod uwagę po wybraniu próbek do klastrowania: {df_filtered.shape[0]}\")\n"
      ],
      "metadata": {
        "id": "6jeuosmfIGXa",
        "outputId": "380dae2c-30bb-4d53-d683-d94dc4565785",
        "colab": {
          "base_uri": "https://localhost:8080/"
        }
      },
      "execution_count": 4,
      "outputs": [
        {
          "output_type": "stream",
          "name": "stdout",
          "text": [
            "Liczba próbek (kolumn) branych pod uwagę do klastrowania: 31\n",
            "Liczba genów (wierszy) branych pod uwagę po wybraniu próbek do klastrowania: 22247\n"
          ]
        }
      ]
    },
    {
      "cell_type": "code",
      "source": [
        "#k-means 40-60 co 5,\n",
        "data_values = df_filtered.loc[:, 'SRR7451446':]\n",
        "scaler = StandardScaler()\n",
        "data_normalized = scaler.fit_transform(data_values)\n",
        "\n",
        "cluster_ranges = range(40, 65, 5)\n",
        "\n",
        "for n_clusters in cluster_ranges:\n",
        "    print(f\"\\nKMeans dla {n_clusters} klastrów:\")\n",
        "\n",
        "    kmeans = KMeans(n_clusters=n_clusters, random_state=42)\n",
        "    kmeans.fit(data_normalized)\n",
        "\n",
        "    df_filtered[f'Cluster_{n_clusters}'] = kmeans.labels_\n",
        "\n",
        "    silhouette_avg = silhouette_score(data_normalized, kmeans.labels_)\n",
        "    print(f\"Średni wskaźnik Silhouette dla {n_clusters} klastrów: {silhouette_avg:.4f}\")\n",
        "\n",
        "    silhouette_values = silhouette_samples(data_normalized, kmeans.labels_)\n",
        "\n",
        "    df_filtered['Silhouette'] = silhouette_values\n",
        "\n",
        "    cluster_silhouette_means = df_filtered.groupby(f'Cluster_{n_clusters}')['Silhouette'].mean()\n",
        "\n",
        "    print(f\"Średni wskaźnik Silhouette dla każdego klastra:\")\n",
        "    print(cluster_silhouette_means)\n",
        "\n",
        "    cluster_counts = df_filtered[f'Cluster_{n_clusters}'].value_counts()\n",
        "    print(f\"Ilość genów w każdym klastrze dla {n_clusters} klastrów:\")\n",
        "    print(cluster_counts)\n",
        "\n",
        "print(f\"Całkowita liczba genów przypisanych do klastrów: {len(df_filtered)}\")"
      ],
      "metadata": {
        "id": "xqqryNqn2mFz",
        "outputId": "56bdf6d8-e294-44ab-d8a6-f1baab52fcdd",
        "colab": {
          "base_uri": "https://localhost:8080/"
        }
      },
      "execution_count": 5,
      "outputs": [
        {
          "output_type": "stream",
          "name": "stdout",
          "text": [
            "\n",
            "KMeans dla 40 klastrów:\n"
          ]
        },
        {
          "output_type": "stream",
          "name": "stderr",
          "text": [
            "<ipython-input-5-19753657d786>:14: SettingWithCopyWarning: \n",
            "A value is trying to be set on a copy of a slice from a DataFrame.\n",
            "Try using .loc[row_indexer,col_indexer] = value instead\n",
            "\n",
            "See the caveats in the documentation: https://pandas.pydata.org/pandas-docs/stable/user_guide/indexing.html#returning-a-view-versus-a-copy\n",
            "  df_filtered[f'Cluster_{n_clusters}'] = kmeans.labels_\n"
          ]
        },
        {
          "output_type": "stream",
          "name": "stdout",
          "text": [
            "Średni wskaźnik Silhouette dla 40 klastrów: 0.6730\n"
          ]
        },
        {
          "output_type": "stream",
          "name": "stderr",
          "text": [
            "<ipython-input-5-19753657d786>:21: SettingWithCopyWarning: \n",
            "A value is trying to be set on a copy of a slice from a DataFrame.\n",
            "Try using .loc[row_indexer,col_indexer] = value instead\n",
            "\n",
            "See the caveats in the documentation: https://pandas.pydata.org/pandas-docs/stable/user_guide/indexing.html#returning-a-view-versus-a-copy\n",
            "  df_filtered['Silhouette'] = silhouette_values\n"
          ]
        },
        {
          "output_type": "stream",
          "name": "stdout",
          "text": [
            "Średni wskaźnik Silhouette dla każdego klastra:\n",
            "Cluster_40\n",
            "0     0.836717\n",
            "1     0.000000\n",
            "2    -0.021573\n",
            "3     0.000000\n",
            "4     0.000000\n",
            "5    -0.029876\n",
            "6     0.000000\n",
            "7     0.000000\n",
            "8     0.155425\n",
            "9     0.000000\n",
            "10    0.147032\n",
            "11    0.000000\n",
            "12    0.000000\n",
            "13    0.000000\n",
            "14    0.000000\n",
            "15    0.000000\n",
            "16    0.085226\n",
            "17    0.197268\n",
            "18    0.061358\n",
            "19   -0.009449\n",
            "20    0.190431\n",
            "21    0.139933\n",
            "22    0.000000\n",
            "23    0.000000\n",
            "24    0.000000\n",
            "25    0.000000\n",
            "26    0.258949\n",
            "27    0.305512\n",
            "28    0.000000\n",
            "29    0.311178\n",
            "30    0.291708\n",
            "31    0.178459\n",
            "32    0.000000\n",
            "33    0.000000\n",
            "34    0.073105\n",
            "35    0.339696\n",
            "36    0.000000\n",
            "37   -0.003339\n",
            "38    0.077619\n",
            "39    0.119223\n",
            "Name: Silhouette, dtype: float64\n",
            "Ilość genów w każdym klastrze dla 40 klastrów:\n",
            "Cluster_40\n",
            "0     16200\n",
            "30     3360\n",
            "17     1514\n",
            "39      593\n",
            "10      245\n",
            "38      123\n",
            "31       67\n",
            "19       34\n",
            "21       31\n",
            "5        15\n",
            "8        12\n",
            "27        7\n",
            "16        6\n",
            "37        4\n",
            "29        3\n",
            "20        3\n",
            "35        3\n",
            "2         2\n",
            "34        2\n",
            "18        2\n",
            "26        2\n",
            "12        1\n",
            "32        1\n",
            "28        1\n",
            "9         1\n",
            "7         1\n",
            "11        1\n",
            "6         1\n",
            "33        1\n",
            "14        1\n",
            "4         1\n",
            "15        1\n",
            "1         1\n",
            "24        1\n",
            "25        1\n",
            "36        1\n",
            "13        1\n",
            "3         1\n",
            "22        1\n",
            "23        1\n",
            "Name: count, dtype: int64\n",
            "\n",
            "KMeans dla 45 klastrów:\n"
          ]
        },
        {
          "output_type": "stream",
          "name": "stderr",
          "text": [
            "<ipython-input-5-19753657d786>:14: SettingWithCopyWarning: \n",
            "A value is trying to be set on a copy of a slice from a DataFrame.\n",
            "Try using .loc[row_indexer,col_indexer] = value instead\n",
            "\n",
            "See the caveats in the documentation: https://pandas.pydata.org/pandas-docs/stable/user_guide/indexing.html#returning-a-view-versus-a-copy\n",
            "  df_filtered[f'Cluster_{n_clusters}'] = kmeans.labels_\n"
          ]
        },
        {
          "output_type": "stream",
          "name": "stdout",
          "text": [
            "Średni wskaźnik Silhouette dla 45 klastrów: 0.6465\n"
          ]
        },
        {
          "output_type": "stream",
          "name": "stderr",
          "text": [
            "<ipython-input-5-19753657d786>:21: SettingWithCopyWarning: \n",
            "A value is trying to be set on a copy of a slice from a DataFrame.\n",
            "Try using .loc[row_indexer,col_indexer] = value instead\n",
            "\n",
            "See the caveats in the documentation: https://pandas.pydata.org/pandas-docs/stable/user_guide/indexing.html#returning-a-view-versus-a-copy\n",
            "  df_filtered['Silhouette'] = silhouette_values\n"
          ]
        },
        {
          "output_type": "stream",
          "name": "stdout",
          "text": [
            "Średni wskaźnik Silhouette dla każdego klastra:\n",
            "Cluster_45\n",
            "0     0.840135\n",
            "1     0.000000\n",
            "2     0.000000\n",
            "3     0.000000\n",
            "4     0.000000\n",
            "5    -0.032983\n",
            "6     0.000000\n",
            "7     0.000000\n",
            "8     0.167793\n",
            "9     0.000000\n",
            "10    0.134208\n",
            "11    0.000000\n",
            "12    0.000000\n",
            "13    0.000000\n",
            "14    0.000000\n",
            "15    0.000000\n",
            "16    0.072719\n",
            "17    0.167013\n",
            "18    0.061358\n",
            "19    0.015996\n",
            "20    0.180613\n",
            "21    0.055857\n",
            "22    0.000000\n",
            "23    0.000000\n",
            "24    0.000000\n",
            "25    0.000000\n",
            "26    0.223181\n",
            "27    0.219038\n",
            "28    0.000000\n",
            "29    0.293964\n",
            "30    0.193759\n",
            "31    0.145986\n",
            "32    0.000000\n",
            "33    0.000000\n",
            "34    0.051474\n",
            "35    0.279036\n",
            "36    0.000000\n",
            "37   -0.023788\n",
            "38    0.029622\n",
            "39   -0.013253\n",
            "40    0.000000\n",
            "41    0.000000\n",
            "42    0.153095\n",
            "43    0.127384\n",
            "44    0.282563\n",
            "Name: Silhouette, dtype: float64\n",
            "Ilość genów w każdym klastrze dla 45 klastrów:\n",
            "Cluster_45\n",
            "0     15303\n",
            "44     3429\n",
            "30     1718\n",
            "17      813\n",
            "10      344\n",
            "43      179\n",
            "39      148\n",
            "38      103\n",
            "31       57\n",
            "19       44\n",
            "42       21\n",
            "21       17\n",
            "8         9\n",
            "5         8\n",
            "27        8\n",
            "16        5\n",
            "37        4\n",
            "20        3\n",
            "35        3\n",
            "29        3\n",
            "26        2\n",
            "18        2\n",
            "34        2\n",
            "6         1\n",
            "32        1\n",
            "14        1\n",
            "33        1\n",
            "40        1\n",
            "11        1\n",
            "28        1\n",
            "7         1\n",
            "9         1\n",
            "15        1\n",
            "22        1\n",
            "1         1\n",
            "4         1\n",
            "24        1\n",
            "25        1\n",
            "36        1\n",
            "13        1\n",
            "3         1\n",
            "12        1\n",
            "41        1\n",
            "2         1\n",
            "23        1\n",
            "Name: count, dtype: int64\n",
            "\n",
            "KMeans dla 50 klastrów:\n"
          ]
        },
        {
          "output_type": "stream",
          "name": "stderr",
          "text": [
            "<ipython-input-5-19753657d786>:14: SettingWithCopyWarning: \n",
            "A value is trying to be set on a copy of a slice from a DataFrame.\n",
            "Try using .loc[row_indexer,col_indexer] = value instead\n",
            "\n",
            "See the caveats in the documentation: https://pandas.pydata.org/pandas-docs/stable/user_guide/indexing.html#returning-a-view-versus-a-copy\n",
            "  df_filtered[f'Cluster_{n_clusters}'] = kmeans.labels_\n"
          ]
        },
        {
          "output_type": "stream",
          "name": "stdout",
          "text": [
            "Średni wskaźnik Silhouette dla 50 klastrów: 0.6462\n"
          ]
        },
        {
          "output_type": "stream",
          "name": "stderr",
          "text": [
            "<ipython-input-5-19753657d786>:21: SettingWithCopyWarning: \n",
            "A value is trying to be set on a copy of a slice from a DataFrame.\n",
            "Try using .loc[row_indexer,col_indexer] = value instead\n",
            "\n",
            "See the caveats in the documentation: https://pandas.pydata.org/pandas-docs/stable/user_guide/indexing.html#returning-a-view-versus-a-copy\n",
            "  df_filtered['Silhouette'] = silhouette_values\n"
          ]
        },
        {
          "output_type": "stream",
          "name": "stdout",
          "text": [
            "Średni wskaźnik Silhouette dla każdego klastra:\n",
            "Cluster_50\n",
            "0     0.840379\n",
            "1     0.000000\n",
            "2     0.000000\n",
            "3     0.000000\n",
            "4     0.000000\n",
            "5     0.068933\n",
            "6     0.000000\n",
            "7     0.000000\n",
            "8     0.098060\n",
            "9     0.000000\n",
            "10    0.131056\n",
            "11    0.000000\n",
            "12    0.000000\n",
            "13    0.000000\n",
            "14    0.000000\n",
            "15    0.000000\n",
            "16    0.047084\n",
            "17    0.164417\n",
            "18    0.000000\n",
            "19   -0.019429\n",
            "20    0.140962\n",
            "21    0.106701\n",
            "22    0.000000\n",
            "23    0.000000\n",
            "24    0.000000\n",
            "25    0.000000\n",
            "26    0.223181\n",
            "27    0.217219\n",
            "28    0.000000\n",
            "29    0.293964\n",
            "30    0.195289\n",
            "31    0.206853\n",
            "32    0.000000\n",
            "33    0.000000\n",
            "34    0.051474\n",
            "35    0.000000\n",
            "36    0.000000\n",
            "37   -0.051184\n",
            "38    0.018872\n",
            "39   -0.013563\n",
            "40    0.000000\n",
            "41    0.000000\n",
            "42    0.134046\n",
            "43    0.137557\n",
            "44    0.281895\n",
            "45    0.027041\n",
            "46    0.000000\n",
            "47    0.000000\n",
            "48    0.005434\n",
            "49    0.000000\n",
            "Name: Silhouette, dtype: float64\n",
            "Ilość genów w każdym klastrze dla 50 klastrów:\n",
            "Cluster_50\n",
            "0     15289\n",
            "44     3433\n",
            "30     1719\n",
            "17      820\n",
            "10      341\n",
            "43      181\n",
            "39      147\n",
            "38      101\n",
            "31       52\n",
            "19       46\n",
            "5        15\n",
            "42       15\n",
            "21       12\n",
            "8         9\n",
            "27        8\n",
            "48        8\n",
            "45        5\n",
            "16        5\n",
            "37        4\n",
            "29        3\n",
            "20        3\n",
            "26        2\n",
            "34        2\n",
            "7         1\n",
            "14        1\n",
            "1         1\n",
            "40        1\n",
            "15        1\n",
            "32        1\n",
            "28        1\n",
            "33        1\n",
            "6         1\n",
            "11        1\n",
            "46        1\n",
            "9         1\n",
            "4         1\n",
            "22        1\n",
            "24        1\n",
            "18        1\n",
            "47        1\n",
            "25        1\n",
            "36        1\n",
            "13        1\n",
            "3         1\n",
            "12        1\n",
            "41        1\n",
            "2         1\n",
            "49        1\n",
            "35        1\n",
            "23        1\n",
            "Name: count, dtype: int64\n",
            "\n",
            "KMeans dla 55 klastrów:\n"
          ]
        },
        {
          "output_type": "stream",
          "name": "stderr",
          "text": [
            "<ipython-input-5-19753657d786>:14: SettingWithCopyWarning: \n",
            "A value is trying to be set on a copy of a slice from a DataFrame.\n",
            "Try using .loc[row_indexer,col_indexer] = value instead\n",
            "\n",
            "See the caveats in the documentation: https://pandas.pydata.org/pandas-docs/stable/user_guide/indexing.html#returning-a-view-versus-a-copy\n",
            "  df_filtered[f'Cluster_{n_clusters}'] = kmeans.labels_\n"
          ]
        },
        {
          "output_type": "stream",
          "name": "stdout",
          "text": [
            "Średni wskaźnik Silhouette dla 55 klastrów: 0.6297\n"
          ]
        },
        {
          "output_type": "stream",
          "name": "stderr",
          "text": [
            "<ipython-input-5-19753657d786>:21: SettingWithCopyWarning: \n",
            "A value is trying to be set on a copy of a slice from a DataFrame.\n",
            "Try using .loc[row_indexer,col_indexer] = value instead\n",
            "\n",
            "See the caveats in the documentation: https://pandas.pydata.org/pandas-docs/stable/user_guide/indexing.html#returning-a-view-versus-a-copy\n",
            "  df_filtered['Silhouette'] = silhouette_values\n"
          ]
        },
        {
          "output_type": "stream",
          "name": "stdout",
          "text": [
            "Średni wskaźnik Silhouette dla każdego klastra:\n",
            "Cluster_55\n",
            "0     0.841501\n",
            "1     0.000000\n",
            "2     0.000000\n",
            "3     0.000000\n",
            "4     0.000000\n",
            "5     0.075836\n",
            "6     0.000000\n",
            "7     0.000000\n",
            "8     0.174024\n",
            "9     0.000000\n",
            "10    0.130041\n",
            "11    0.000000\n",
            "12    0.112900\n",
            "13    0.000000\n",
            "14    0.000000\n",
            "15    0.182797\n",
            "16    0.000000\n",
            "17    0.000000\n",
            "18    0.000000\n",
            "19    0.000000\n",
            "20    0.011939\n",
            "21   -0.007219\n",
            "22    0.000000\n",
            "23    0.000000\n",
            "24    0.136943\n",
            "25   -0.068926\n",
            "26    0.154134\n",
            "27    0.000000\n",
            "28    0.126076\n",
            "29    0.000000\n",
            "30    0.000000\n",
            "31    0.184669\n",
            "32    0.000000\n",
            "33    0.000000\n",
            "34    0.000000\n",
            "35    0.000000\n",
            "36    0.172918\n",
            "37    0.000000\n",
            "38    0.000000\n",
            "39   -0.040966\n",
            "40    0.000000\n",
            "41   -0.028551\n",
            "42    0.000000\n",
            "43    0.000000\n",
            "44    0.110841\n",
            "45    0.283018\n",
            "46    0.000000\n",
            "47    0.000000\n",
            "48    0.261229\n",
            "49    0.050796\n",
            "50    0.000000\n",
            "51    0.000000\n",
            "52    0.000000\n",
            "53    0.033930\n",
            "54   -0.013896\n",
            "Name: Silhouette, dtype: float64\n",
            "Ilość genów w każdym klastrze dla 55 klastrów:\n",
            "Cluster_55\n",
            "0     14768\n",
            "45     3368\n",
            "15     1849\n",
            "36      990\n",
            "24      447\n",
            "10      186\n",
            "53      147\n",
            "44      122\n",
            "54       84\n",
            "20       70\n",
            "28       55\n",
            "5        30\n",
            "39       22\n",
            "49       20\n",
            "31       14\n",
            "12       10\n",
            "21        7\n",
            "25        7\n",
            "48        7\n",
            "41        5\n",
            "26        4\n",
            "8         2\n",
            "32        1\n",
            "29        1\n",
            "40        1\n",
            "6         1\n",
            "9         1\n",
            "19        1\n",
            "11        1\n",
            "42        1\n",
            "16        1\n",
            "34        1\n",
            "13        1\n",
            "33        1\n",
            "37        1\n",
            "1         1\n",
            "4         1\n",
            "51        1\n",
            "18        1\n",
            "2         1\n",
            "50        1\n",
            "43        1\n",
            "46        1\n",
            "30        1\n",
            "27        1\n",
            "38        1\n",
            "14        1\n",
            "3         1\n",
            "47        1\n",
            "52        1\n",
            "35        1\n",
            "22        1\n",
            "17        1\n",
            "7         1\n",
            "23        1\n",
            "Name: count, dtype: int64\n",
            "\n",
            "KMeans dla 60 klastrów:\n"
          ]
        },
        {
          "output_type": "stream",
          "name": "stderr",
          "text": [
            "<ipython-input-5-19753657d786>:14: SettingWithCopyWarning: \n",
            "A value is trying to be set on a copy of a slice from a DataFrame.\n",
            "Try using .loc[row_indexer,col_indexer] = value instead\n",
            "\n",
            "See the caveats in the documentation: https://pandas.pydata.org/pandas-docs/stable/user_guide/indexing.html#returning-a-view-versus-a-copy\n",
            "  df_filtered[f'Cluster_{n_clusters}'] = kmeans.labels_\n"
          ]
        },
        {
          "output_type": "stream",
          "name": "stdout",
          "text": [
            "Średni wskaźnik Silhouette dla 60 klastrów: 0.6238\n",
            "Średni wskaźnik Silhouette dla każdego klastra:\n",
            "Cluster_60\n",
            "0     0.840209\n",
            "1     0.000000\n",
            "2     0.000000\n",
            "3     0.000000\n",
            "4     0.000000\n",
            "5     0.060182\n",
            "6     0.000000\n",
            "7     0.000000\n",
            "8     0.174024\n",
            "9     0.000000\n",
            "10    0.088335\n",
            "11    0.000000\n",
            "12    0.148508\n",
            "13    0.000000\n",
            "14    0.000000\n",
            "15    0.192352\n",
            "16    0.000000\n",
            "17    0.000000\n",
            "18    0.000000\n",
            "19    0.000000\n",
            "20    0.000828\n",
            "21    0.068983\n",
            "22    0.000000\n",
            "23    0.000000\n",
            "24    0.110622\n",
            "25    0.026817\n",
            "26    0.156141\n",
            "27    0.000000\n",
            "28    0.128711\n",
            "29    0.000000\n",
            "30    0.000000\n",
            "31    0.158288\n",
            "32    0.000000\n",
            "33    0.000000\n",
            "34    0.000000\n",
            "35    0.000000\n",
            "36    0.183905\n",
            "37    0.000000\n",
            "38    0.000000\n",
            "39   -0.040431\n",
            "40    0.000000\n",
            "41   -0.034625\n",
            "42    0.000000\n",
            "43    0.000000\n",
            "44    0.095103\n",
            "45    0.277569\n",
            "46    0.000000\n",
            "47    0.000000\n",
            "48    0.273157\n",
            "49    0.077254\n",
            "50    0.000000\n",
            "51    0.000000\n",
            "52    0.000000\n",
            "53    0.104767\n",
            "54   -0.018216\n",
            "55    0.214300\n",
            "56   -0.003418\n",
            "57    0.000000\n",
            "58    0.153946\n",
            "59    0.000000\n",
            "Name: Silhouette, dtype: float64\n",
            "Ilość genów w każdym klastrze dla 60 klastrów:\n",
            "Cluster_60\n",
            "0     14673\n",
            "45     3305\n",
            "15     1740\n",
            "36      941\n",
            "24      499\n",
            "53      281\n",
            "54      164\n",
            "10      160\n",
            "44      126\n",
            "56       96\n",
            "28       53\n",
            "20       49\n",
            "5        30\n",
            "39       21\n",
            "49       19\n",
            "31       15\n",
            "12        9\n",
            "48        7\n",
            "25        6\n",
            "41        5\n",
            "26        4\n",
            "21        3\n",
            "55        2\n",
            "8         2\n",
            "58        2\n",
            "37        1\n",
            "33        1\n",
            "4         1\n",
            "1         1\n",
            "34        1\n",
            "51        1\n",
            "29        1\n",
            "13        1\n",
            "6         1\n",
            "16        1\n",
            "42        1\n",
            "40        1\n",
            "11        1\n",
            "19        1\n",
            "50        1\n",
            "9         1\n",
            "18        1\n",
            "22        1\n",
            "43        1\n",
            "52        1\n",
            "35        1\n",
            "17        1\n",
            "2         1\n",
            "32        1\n",
            "59        1\n",
            "7         1\n",
            "47        1\n",
            "46        1\n",
            "3         1\n",
            "14        1\n",
            "38        1\n",
            "27        1\n",
            "30        1\n",
            "57        1\n",
            "23        1\n",
            "Name: count, dtype: int64\n",
            "Całkowita liczba genów przypisanych do klastrów: 22247\n"
          ]
        },
        {
          "output_type": "stream",
          "name": "stderr",
          "text": [
            "<ipython-input-5-19753657d786>:21: SettingWithCopyWarning: \n",
            "A value is trying to be set on a copy of a slice from a DataFrame.\n",
            "Try using .loc[row_indexer,col_indexer] = value instead\n",
            "\n",
            "See the caveats in the documentation: https://pandas.pydata.org/pandas-docs/stable/user_guide/indexing.html#returning-a-view-versus-a-copy\n",
            "  df_filtered['Silhouette'] = silhouette_values\n"
          ]
        }
      ]
    },
    {
      "cell_type": "code",
      "source": [
        "import seaborn as sns\n",
        "import matplotlib.pyplot as plt\n",
        "import numpy as np\n",
        "#heatmapyy do poprawy,\n",
        "#musze miec heatmape dla kazdego klastra kmeans, np dla 40, w tym zeby na osi x byly nazwy myszy, a na osi y nazwy genow(bez tych ostatnich kolumn na osi x co sie dziwne zrobily)\n",
        "#dowiedziec sie z dbscan czemu jest takie dziwne\n",
        "#wizualizowac hierarchiczne\n",
        "#sprawdzic czy na pewno ilsoc genow do heatmap jest odpowiednia\n",
        "# Minimalna liczba genów w klastrze, aby był wizualizowany\n",
        "#zwizualizować nasze geny na wykresie 2D np metodą PCA mail od p swiercz\n",
        "min_genes = 10\n",
        "\n",
        "# Zakres liczby klastrów (dynamicznie zmieniaj n_clusters)\n",
        "n_clusters = 40\n",
        "\n",
        "# Pętla przez wszystkie klastry\n",
        "for cluster_id in range(n_clusters):\n",
        "    # Wybieramy geny z konkretnego klastra\n",
        "    cluster_genes = df_filtered[df_filtered[f'Cluster_{n_clusters}'] == cluster_id]\n",
        "\n",
        "    # Sprawdzamy, czy liczba genów w klastrze spełnia warunek minimalnej liczebności\n",
        "    if len(cluster_genes) >= min_genes:\n",
        "        # Transformacja logarytmiczna danych\n",
        "        cluster_genes_log = np.log1p(cluster_genes.loc[:, 'SRR7451446':])\n",
        "\n",
        "        # Obliczenie średniego wskaźnika Silhouette dla klastra\n",
        "        cluster_silhouette_mean = cluster_genes['Silhouette'].mean()\n",
        "\n",
        "        # Generowanie mapy ciepła\n",
        "        plt.figure(figsize=(10, 8))\n",
        "        #sns.heatmap(cluster_genes_log, cmap=\"viridis\", cbar=True)\n",
        "        sns.heatmap(cluster_genes_log, cmap=\"viridis\", cbar=True, yticklabels=True)\n",
        "\n",
        "        # Dodanie tytułu i etykiet\n",
        "        plt.title(\n",
        "            f\"KMeans ({n_clusters} klastrów): Klaster {cluster_id} \"\n",
        "            f\"(n = {len(cluster_genes)}, Silhouette = {cluster_silhouette_mean:.4f})\"\n",
        "        )\n",
        "        plt.xlabel(\"Wartości SRR\")\n",
        "        plt.ylabel(\"Geny\")\n",
        "\n",
        "        # Wyświetlenie mapy\n",
        "        plt.show()\n"
      ],
      "metadata": {
        "id": "XTlNtGP_c3Vm",
        "colab": {
          "base_uri": "https://localhost:8080/",
          "height": 350
        },
        "outputId": "6d668611-2c22-4675-bac9-4fc0f866b5eb"
      },
      "execution_count": null,
      "outputs": [
        {
          "output_type": "error",
          "ename": "KeyboardInterrupt",
          "evalue": "",
          "traceback": [
            "\u001b[0;31m---------------------------------------------------------------------------\u001b[0m",
            "\u001b[0;31mKeyboardInterrupt\u001b[0m                         Traceback (most recent call last)",
            "\u001b[0;32m<ipython-input-6-eff74a30fb23>\u001b[0m in \u001b[0;36m<cell line: 13>\u001b[0;34m()\u001b[0m\n\u001b[1;32m     26\u001b[0m         \u001b[0mplt\u001b[0m\u001b[0;34m.\u001b[0m\u001b[0mfigure\u001b[0m\u001b[0;34m(\u001b[0m\u001b[0mfigsize\u001b[0m\u001b[0;34m=\u001b[0m\u001b[0;34m(\u001b[0m\u001b[0;36m10\u001b[0m\u001b[0;34m,\u001b[0m \u001b[0;36m8\u001b[0m\u001b[0;34m)\u001b[0m\u001b[0;34m)\u001b[0m\u001b[0;34m\u001b[0m\u001b[0;34m\u001b[0m\u001b[0m\n\u001b[1;32m     27\u001b[0m         \u001b[0;31m#sns.heatmap(cluster_genes_log, cmap=\"viridis\", cbar=True)\u001b[0m\u001b[0;34m\u001b[0m\u001b[0;34m\u001b[0m\u001b[0m\n\u001b[0;32m---> 28\u001b[0;31m         \u001b[0msns\u001b[0m\u001b[0;34m.\u001b[0m\u001b[0mheatmap\u001b[0m\u001b[0;34m(\u001b[0m\u001b[0mcluster_genes_log\u001b[0m\u001b[0;34m,\u001b[0m \u001b[0mcmap\u001b[0m\u001b[0;34m=\u001b[0m\u001b[0;34m\"viridis\"\u001b[0m\u001b[0;34m,\u001b[0m \u001b[0mcbar\u001b[0m\u001b[0;34m=\u001b[0m\u001b[0;32mTrue\u001b[0m\u001b[0;34m,\u001b[0m \u001b[0myticklabels\u001b[0m\u001b[0;34m=\u001b[0m\u001b[0;32mTrue\u001b[0m\u001b[0;34m)\u001b[0m\u001b[0;34m\u001b[0m\u001b[0;34m\u001b[0m\u001b[0m\n\u001b[0m\u001b[1;32m     29\u001b[0m \u001b[0;34m\u001b[0m\u001b[0m\n\u001b[1;32m     30\u001b[0m         \u001b[0;31m# Dodanie tytułu i etykiet\u001b[0m\u001b[0;34m\u001b[0m\u001b[0;34m\u001b[0m\u001b[0m\n",
            "\u001b[0;32m/usr/local/lib/python3.10/dist-packages/seaborn/matrix.py\u001b[0m in \u001b[0;36mheatmap\u001b[0;34m(data, vmin, vmax, cmap, center, robust, annot, fmt, annot_kws, linewidths, linecolor, cbar, cbar_kws, cbar_ax, square, xticklabels, yticklabels, mask, ax, **kwargs)\u001b[0m\n\u001b[1;32m    457\u001b[0m     \u001b[0;32mif\u001b[0m \u001b[0msquare\u001b[0m\u001b[0;34m:\u001b[0m\u001b[0;34m\u001b[0m\u001b[0;34m\u001b[0m\u001b[0m\n\u001b[1;32m    458\u001b[0m         \u001b[0max\u001b[0m\u001b[0;34m.\u001b[0m\u001b[0mset_aspect\u001b[0m\u001b[0;34m(\u001b[0m\u001b[0;34m\"equal\"\u001b[0m\u001b[0;34m)\u001b[0m\u001b[0;34m\u001b[0m\u001b[0;34m\u001b[0m\u001b[0m\n\u001b[0;32m--> 459\u001b[0;31m     \u001b[0mplotter\u001b[0m\u001b[0;34m.\u001b[0m\u001b[0mplot\u001b[0m\u001b[0;34m(\u001b[0m\u001b[0max\u001b[0m\u001b[0;34m,\u001b[0m \u001b[0mcbar_ax\u001b[0m\u001b[0;34m,\u001b[0m \u001b[0mkwargs\u001b[0m\u001b[0;34m)\u001b[0m\u001b[0;34m\u001b[0m\u001b[0;34m\u001b[0m\u001b[0m\n\u001b[0m\u001b[1;32m    460\u001b[0m     \u001b[0;32mreturn\u001b[0m \u001b[0max\u001b[0m\u001b[0;34m\u001b[0m\u001b[0;34m\u001b[0m\u001b[0m\n\u001b[1;32m    461\u001b[0m \u001b[0;34m\u001b[0m\u001b[0m\n",
            "\u001b[0;32m/usr/local/lib/python3.10/dist-packages/seaborn/matrix.py\u001b[0m in \u001b[0;36mplot\u001b[0;34m(self, ax, cax, kws)\u001b[0m\n\u001b[1;32m    342\u001b[0m         \u001b[0;32mif\u001b[0m \u001b[0maxis_ticklabels_overlap\u001b[0m\u001b[0;34m(\u001b[0m\u001b[0mxtl\u001b[0m\u001b[0;34m)\u001b[0m\u001b[0;34m:\u001b[0m\u001b[0;34m\u001b[0m\u001b[0;34m\u001b[0m\u001b[0m\n\u001b[1;32m    343\u001b[0m             \u001b[0mplt\u001b[0m\u001b[0;34m.\u001b[0m\u001b[0msetp\u001b[0m\u001b[0;34m(\u001b[0m\u001b[0mxtl\u001b[0m\u001b[0;34m,\u001b[0m \u001b[0mrotation\u001b[0m\u001b[0;34m=\u001b[0m\u001b[0;34m\"vertical\"\u001b[0m\u001b[0;34m)\u001b[0m\u001b[0;34m\u001b[0m\u001b[0;34m\u001b[0m\u001b[0m\n\u001b[0;32m--> 344\u001b[0;31m         \u001b[0;32mif\u001b[0m \u001b[0maxis_ticklabels_overlap\u001b[0m\u001b[0;34m(\u001b[0m\u001b[0mytl\u001b[0m\u001b[0;34m)\u001b[0m\u001b[0;34m:\u001b[0m\u001b[0;34m\u001b[0m\u001b[0;34m\u001b[0m\u001b[0m\n\u001b[0m\u001b[1;32m    345\u001b[0m             \u001b[0mplt\u001b[0m\u001b[0;34m.\u001b[0m\u001b[0msetp\u001b[0m\u001b[0;34m(\u001b[0m\u001b[0mytl\u001b[0m\u001b[0;34m,\u001b[0m \u001b[0mrotation\u001b[0m\u001b[0;34m=\u001b[0m\u001b[0;34m\"horizontal\"\u001b[0m\u001b[0;34m)\u001b[0m\u001b[0;34m\u001b[0m\u001b[0;34m\u001b[0m\u001b[0m\n\u001b[1;32m    346\u001b[0m \u001b[0;34m\u001b[0m\u001b[0m\n",
            "\u001b[0;32m/usr/local/lib/python3.10/dist-packages/seaborn/utils.py\u001b[0m in \u001b[0;36maxis_ticklabels_overlap\u001b[0;34m(labels)\u001b[0m\n\u001b[1;32m    647\u001b[0m     \u001b[0;32mtry\u001b[0m\u001b[0;34m:\u001b[0m\u001b[0;34m\u001b[0m\u001b[0;34m\u001b[0m\u001b[0m\n\u001b[1;32m    648\u001b[0m         \u001b[0mbboxes\u001b[0m \u001b[0;34m=\u001b[0m \u001b[0;34m[\u001b[0m\u001b[0ml\u001b[0m\u001b[0;34m.\u001b[0m\u001b[0mget_window_extent\u001b[0m\u001b[0;34m(\u001b[0m\u001b[0;34m)\u001b[0m \u001b[0;32mfor\u001b[0m \u001b[0ml\u001b[0m \u001b[0;32min\u001b[0m \u001b[0mlabels\u001b[0m\u001b[0;34m]\u001b[0m\u001b[0;34m\u001b[0m\u001b[0;34m\u001b[0m\u001b[0m\n\u001b[0;32m--> 649\u001b[0;31m         \u001b[0moverlaps\u001b[0m \u001b[0;34m=\u001b[0m \u001b[0;34m[\u001b[0m\u001b[0mb\u001b[0m\u001b[0;34m.\u001b[0m\u001b[0mcount_overlaps\u001b[0m\u001b[0;34m(\u001b[0m\u001b[0mbboxes\u001b[0m\u001b[0;34m)\u001b[0m \u001b[0;32mfor\u001b[0m \u001b[0mb\u001b[0m \u001b[0;32min\u001b[0m \u001b[0mbboxes\u001b[0m\u001b[0;34m]\u001b[0m\u001b[0;34m\u001b[0m\u001b[0;34m\u001b[0m\u001b[0m\n\u001b[0m\u001b[1;32m    650\u001b[0m         \u001b[0;32mreturn\u001b[0m \u001b[0mmax\u001b[0m\u001b[0;34m(\u001b[0m\u001b[0moverlaps\u001b[0m\u001b[0;34m)\u001b[0m \u001b[0;34m>\u001b[0m \u001b[0;36m1\u001b[0m\u001b[0;34m\u001b[0m\u001b[0;34m\u001b[0m\u001b[0m\n\u001b[1;32m    651\u001b[0m     \u001b[0;32mexcept\u001b[0m \u001b[0mRuntimeError\u001b[0m\u001b[0;34m:\u001b[0m\u001b[0;34m\u001b[0m\u001b[0;34m\u001b[0m\u001b[0m\n",
            "\u001b[0;32m/usr/local/lib/python3.10/dist-packages/seaborn/utils.py\u001b[0m in \u001b[0;36m<listcomp>\u001b[0;34m(.0)\u001b[0m\n\u001b[1;32m    647\u001b[0m     \u001b[0;32mtry\u001b[0m\u001b[0;34m:\u001b[0m\u001b[0;34m\u001b[0m\u001b[0;34m\u001b[0m\u001b[0m\n\u001b[1;32m    648\u001b[0m         \u001b[0mbboxes\u001b[0m \u001b[0;34m=\u001b[0m \u001b[0;34m[\u001b[0m\u001b[0ml\u001b[0m\u001b[0;34m.\u001b[0m\u001b[0mget_window_extent\u001b[0m\u001b[0;34m(\u001b[0m\u001b[0;34m)\u001b[0m \u001b[0;32mfor\u001b[0m \u001b[0ml\u001b[0m \u001b[0;32min\u001b[0m \u001b[0mlabels\u001b[0m\u001b[0;34m]\u001b[0m\u001b[0;34m\u001b[0m\u001b[0;34m\u001b[0m\u001b[0m\n\u001b[0;32m--> 649\u001b[0;31m         \u001b[0moverlaps\u001b[0m \u001b[0;34m=\u001b[0m \u001b[0;34m[\u001b[0m\u001b[0mb\u001b[0m\u001b[0;34m.\u001b[0m\u001b[0mcount_overlaps\u001b[0m\u001b[0;34m(\u001b[0m\u001b[0mbboxes\u001b[0m\u001b[0;34m)\u001b[0m \u001b[0;32mfor\u001b[0m \u001b[0mb\u001b[0m \u001b[0;32min\u001b[0m \u001b[0mbboxes\u001b[0m\u001b[0;34m]\u001b[0m\u001b[0;34m\u001b[0m\u001b[0;34m\u001b[0m\u001b[0m\n\u001b[0m\u001b[1;32m    650\u001b[0m         \u001b[0;32mreturn\u001b[0m \u001b[0mmax\u001b[0m\u001b[0;34m(\u001b[0m\u001b[0moverlaps\u001b[0m\u001b[0;34m)\u001b[0m \u001b[0;34m>\u001b[0m \u001b[0;36m1\u001b[0m\u001b[0;34m\u001b[0m\u001b[0;34m\u001b[0m\u001b[0m\n\u001b[1;32m    651\u001b[0m     \u001b[0;32mexcept\u001b[0m \u001b[0mRuntimeError\u001b[0m\u001b[0;34m:\u001b[0m\u001b[0;34m\u001b[0m\u001b[0;34m\u001b[0m\u001b[0m\n",
            "\u001b[0;32m/usr/local/lib/python3.10/dist-packages/matplotlib/transforms.py\u001b[0m in \u001b[0;36mcount_overlaps\u001b[0;34m(self, bboxes)\u001b[0m\n\u001b[1;32m    592\u001b[0m         \"\"\"\n\u001b[1;32m    593\u001b[0m         return count_bboxes_overlapping_bbox(\n\u001b[0;32m--> 594\u001b[0;31m             self, np.atleast_3d([np.array(x) for x in bboxes]))\n\u001b[0m\u001b[1;32m    595\u001b[0m \u001b[0;34m\u001b[0m\u001b[0m\n\u001b[1;32m    596\u001b[0m     \u001b[0;32mdef\u001b[0m \u001b[0mexpanded\u001b[0m\u001b[0;34m(\u001b[0m\u001b[0mself\u001b[0m\u001b[0;34m,\u001b[0m \u001b[0msw\u001b[0m\u001b[0;34m,\u001b[0m \u001b[0msh\u001b[0m\u001b[0;34m)\u001b[0m\u001b[0;34m:\u001b[0m\u001b[0;34m\u001b[0m\u001b[0;34m\u001b[0m\u001b[0m\n",
            "\u001b[0;32m/usr/local/lib/python3.10/dist-packages/matplotlib/transforms.py\u001b[0m in \u001b[0;36m<listcomp>\u001b[0;34m(.0)\u001b[0m\n\u001b[1;32m    592\u001b[0m         \"\"\"\n\u001b[1;32m    593\u001b[0m         return count_bboxes_overlapping_bbox(\n\u001b[0;32m--> 594\u001b[0;31m             self, np.atleast_3d([np.array(x) for x in bboxes]))\n\u001b[0m\u001b[1;32m    595\u001b[0m \u001b[0;34m\u001b[0m\u001b[0m\n\u001b[1;32m    596\u001b[0m     \u001b[0;32mdef\u001b[0m \u001b[0mexpanded\u001b[0m\u001b[0;34m(\u001b[0m\u001b[0mself\u001b[0m\u001b[0;34m,\u001b[0m \u001b[0msw\u001b[0m\u001b[0;34m,\u001b[0m \u001b[0msh\u001b[0m\u001b[0;34m)\u001b[0m\u001b[0;34m:\u001b[0m\u001b[0;34m\u001b[0m\u001b[0;34m\u001b[0m\u001b[0m\n",
            "\u001b[0;32m/usr/local/lib/python3.10/dist-packages/matplotlib/transforms.py\u001b[0m in \u001b[0;36m__array__\u001b[0;34m(self, *args, **kwargs)\u001b[0m\n\u001b[1;32m    237\u001b[0m     \u001b[0mfrozen\u001b[0m\u001b[0;34m.\u001b[0m\u001b[0m__doc__\u001b[0m \u001b[0;34m=\u001b[0m \u001b[0mTransformNode\u001b[0m\u001b[0;34m.\u001b[0m\u001b[0m__doc__\u001b[0m\u001b[0;34m\u001b[0m\u001b[0;34m\u001b[0m\u001b[0m\n\u001b[1;32m    238\u001b[0m \u001b[0;34m\u001b[0m\u001b[0m\n\u001b[0;32m--> 239\u001b[0;31m     \u001b[0;32mdef\u001b[0m \u001b[0m__array__\u001b[0m\u001b[0;34m(\u001b[0m\u001b[0mself\u001b[0m\u001b[0;34m,\u001b[0m \u001b[0;34m*\u001b[0m\u001b[0margs\u001b[0m\u001b[0;34m,\u001b[0m \u001b[0;34m**\u001b[0m\u001b[0mkwargs\u001b[0m\u001b[0;34m)\u001b[0m\u001b[0;34m:\u001b[0m\u001b[0;34m\u001b[0m\u001b[0;34m\u001b[0m\u001b[0m\n\u001b[0m\u001b[1;32m    240\u001b[0m         \u001b[0;32mreturn\u001b[0m \u001b[0mself\u001b[0m\u001b[0;34m.\u001b[0m\u001b[0mget_points\u001b[0m\u001b[0;34m(\u001b[0m\u001b[0;34m)\u001b[0m\u001b[0;34m\u001b[0m\u001b[0;34m\u001b[0m\u001b[0m\n\u001b[1;32m    241\u001b[0m \u001b[0;34m\u001b[0m\u001b[0m\n",
            "\u001b[0;31mKeyboardInterrupt\u001b[0m: "
          ]
        }
      ]
    },
    {
      "cell_type": "code",
      "source": [
        "print(df_filtered.head())\n"
      ],
      "metadata": {
        "colab": {
          "base_uri": "https://localhost:8080/"
        },
        "id": "9Up3z4MIpbG2",
        "outputId": "42732fce-47e1-47de-bf85-555db61b3a38"
      },
      "execution_count": null,
      "outputs": [
        {
          "output_type": "stream",
          "name": "stdout",
          "text": [
            "            lncRNA        mean            var  coeff of var  SRR7451446  \\\n",
            "Unnamed: 0                                                                \n",
            "7SK              0    3.762019      21.888072      1.243606    1.357138   \n",
            "A2M              0   20.267104    1297.462576      1.777279   26.464191   \n",
            "A2M-AS1          1    5.144518      30.254474      1.069178    0.000000   \n",
            "A2ML1            0    9.435519     229.189277      1.604469   17.642794   \n",
            "A4GALT           0  708.942320  269934.529600      0.732855  220.534924   \n",
            "\n",
            "            SRR7451447  SRR7451449  SRR7451450  SRR7451451  SRR7451452  ...  \\\n",
            "Unnamed: 0                                                              ...   \n",
            "7SK           1.675025    2.385340    1.672319    3.724756   11.352836  ...   \n",
            "A2M         179.227647    7.156021    5.853117    9.311891    9.839125  ...   \n",
            "A2M-AS1       2.512537    7.156021    3.344638    4.655945   11.352836  ...   \n",
            "A2ML1         0.837512    1.590227    5.016957   17.692592   41.627066  ...   \n",
            "A4GALT      253.766248  464.346272  445.673028  101.499607  218.731311  ...   \n",
            "\n",
            "            Cluster_40  Silhouette  Cluster_30  Cluster_35  Cluster_45  \\\n",
            "Unnamed: 0                                                               \n",
            "7SK                  0    0.970069           0           0           0   \n",
            "A2M                  0    0.289344           0           0           0   \n",
            "A2M-AS1              0    0.969849           0           0           0   \n",
            "A2ML1                0    0.969466           0           0           0   \n",
            "A4GALT              19    0.892657           6          30          19   \n",
            "\n",
            "            Cluster_50  Agg_Cluster_40  DBSCAN_Cluster  Cluster_55  Cluster_60  \n",
            "Unnamed: 0                                                                      \n",
            "7SK                  0              39               0           0           0  \n",
            "A2M                  0              39               0          26          26  \n",
            "A2M-AS1              0              39               0           0           0  \n",
            "A2ML1                0              39               0           0           0  \n",
            "A4GALT              19              14               1          14          14  \n",
            "\n",
            "[5 rows x 40 columns]\n"
          ]
        }
      ]
    },
    {
      "cell_type": "code",
      "source": [
        "cluster_genes = df_filtered[df_filtered[f'Cluster_{n_clusters}'] == cluster_id]\n",
        "\n",
        "# Sprawdzenie nazw kolumn\n",
        "print(cluster_genes.columns)\n"
      ],
      "metadata": {
        "colab": {
          "base_uri": "https://localhost:8080/"
        },
        "id": "k3ohzBYFo6MX",
        "outputId": "a030c7ed-f344-4f4f-cc18-dceaecfd996f"
      },
      "execution_count": null,
      "outputs": [
        {
          "output_type": "stream",
          "name": "stdout",
          "text": [
            "Index(['Unnamed: 0', 'lncRNA', 'mean', 'var', 'coeff of var', 'SRR7451446',\n",
            "       'SRR7451447', 'SRR7451449', 'SRR7451450', 'SRR7451451', 'SRR7451452',\n",
            "       'SRR7451453', 'SRR7451454', 'SRR7451455', 'SRR7451456', 'SRR7451457',\n",
            "       'SRR7451458', 'SRR7451459', 'SRR7451460', 'SRR7451461', 'SRR7451462',\n",
            "       'SRR7451463', 'SRR7451464', 'SRR7451465', 'SRR7451466', 'SRR7451467',\n",
            "       'SRR7451468', 'SRR7451469', 'SRR7451470', 'SRR7451471', 'SRR7451472',\n",
            "       'Cluster_40', 'Silhouette', 'Cluster_30', 'Cluster_35', 'Cluster_45',\n",
            "       'Cluster_50', 'Agg_Cluster_40', 'DBSCAN_Cluster', 'Cluster_55',\n",
            "       'Cluster_60'],\n",
            "      dtype='object')\n"
          ]
        }
      ]
    },
    {
      "cell_type": "code",
      "source": [
        "print(df_filtered['Unnamed: 0'].head())\n"
      ],
      "metadata": {
        "colab": {
          "base_uri": "https://localhost:8080/"
        },
        "id": "0B_YOk4lpK_C",
        "outputId": "79ceb12b-2cf5-47ce-db56-26c2b9c4c44d"
      },
      "execution_count": null,
      "outputs": [
        {
          "output_type": "stream",
          "name": "stdout",
          "text": [
            "0        7SK\n",
            "3        A2M\n",
            "4    A2M-AS1\n",
            "5      A2ML1\n",
            "7     A4GALT\n",
            "Name: Unnamed: 0, dtype: object\n"
          ]
        }
      ]
    },
    {
      "cell_type": "code",
      "source": [
        "plt.figure(figsize=(12, 6))\n",
        "sns.boxplot(data=cluster_0_genes.loc[:, 'SRR7451446':])\n",
        "plt.title(f\"Rozkład wartości dla genów w klastrze 0 (n = {len(cluster_0_genes)})\")\n",
        "plt.xlabel(\"Wartości SRR\")\n",
        "plt.ylabel(\"Rozkład wartości genów\")\n",
        "plt.xticks(rotation=90)\n",
        "plt.show()\n"
      ],
      "metadata": {
        "id": "Js5uFIYddxHB",
        "outputId": "206bfc49-977f-4b10-f0f3-cd3ffe430bee",
        "colab": {
          "base_uri": "https://localhost:8080/",
          "height": 640
        }
      },
      "execution_count": null,
      "outputs": [
        {
          "output_type": "display_data",
          "data": {
            "text/plain": [
              "<Figure size 1200x600 with 1 Axes>"
            ],
            "image/png": "[encoded data removed]"
          },
          "metadata": {}
        }
      ]
    },
    {
      "cell_type": "code",
      "source": [
        "from sklearn.cluster import AgglomerativeClustering\n",
        "from sklearn.metrics import silhouette_score\n",
        "\n",
        "agg_clustering = AgglomerativeClustering(n_clusters=40)\n",
        "agg_labels = agg_clustering.fit_predict(data_normalized)\n",
        "\n",
        "df_filtered.loc[:, 'Agg_Cluster_40'] = agg_labels\n",
        "\n",
        "agg_silhouette_avg = silhouette_score(data_normalized, agg_labels)\n",
        "print(f\"Średni wskaźnik Silhouette dla Agglomerative Clustering (40 klastrów): {agg_silhouette_avg:.4f}\")\n",
        "\n",
        "\n",
        "agg_cluster_counts = pd.Series(agg_labels).value_counts()\n",
        "print(f\"Ilość genów w każdym klastrze dla Agglomerative Clustering (40 klastrów):\")\n",
        "print(agg_cluster_counts)\n"
      ],
      "metadata": {
        "id": "Kc_01dNuI_Lm",
        "outputId": "ef9cc7cb-e0c8-4203-de06-0b25f3c19d14",
        "colab": {
          "base_uri": "https://localhost:8080/"
        }
      },
      "execution_count": null,
      "outputs": [
        {
          "output_type": "stream",
          "name": "stderr",
          "text": [
            "<ipython-input-11-240c6fac1cb1>:7: SettingWithCopyWarning: \n",
            "A value is trying to be set on a copy of a slice from a DataFrame.\n",
            "Try using .loc[row_indexer,col_indexer] = value instead\n",
            "\n",
            "See the caveats in the documentation: https://pandas.pydata.org/pandas-docs/stable/user_guide/indexing.html#returning-a-view-versus-a-copy\n",
            "  df_filtered.loc[:, 'Agg_Cluster_40'] = agg_labels\n"
          ]
        },
        {
          "output_type": "stream",
          "name": "stdout",
          "text": [
            "Średni wskaźnik Silhouette dla Agglomerative Clustering (40 klastrów): 0.6924\n",
            "Ilość genów w każdym klastrze dla Agglomerative Clustering (40 klastrów):\n",
            "39    11983\n",
            "22     2176\n",
            "14     1950\n",
            "10     1167\n",
            "30      924\n",
            "16      874\n",
            "26      808\n",
            "6       706\n",
            "1       593\n",
            "7       486\n",
            "19      245\n",
            "17      119\n",
            "28       69\n",
            "5        41\n",
            "9        34\n",
            "27       17\n",
            "8         9\n",
            "3         7\n",
            "13        6\n",
            "0         5\n",
            "2         4\n",
            "12        3\n",
            "18        3\n",
            "4         2\n",
            "33        1\n",
            "35        1\n",
            "20        1\n",
            "21        1\n",
            "15        1\n",
            "38        1\n",
            "34        1\n",
            "37        1\n",
            "32        1\n",
            "11        1\n",
            "29        1\n",
            "25        1\n",
            "24        1\n",
            "31        1\n",
            "23        1\n",
            "36        1\n",
            "Name: count, dtype: int64\n"
          ]
        }
      ]
    },
    {
      "cell_type": "code",
      "source": [
        "from sklearn.cluster import DBSCAN\n",
        "\n",
        "dbscan_clustering = DBSCAN(eps=0.5, min_samples=10)\n",
        "dbscan_labels = dbscan_clustering.fit_predict(data_normalized)\n",
        "\n",
        "df_filtered.loc[:, 'DBSCAN_Cluster'] = dbscan_labels\n",
        "\n",
        "dbscan_cluster_counts = pd.Series(dbscan_labels).value_counts()\n",
        "print(f\"Ilość genów w każdym klastrze dla DBSCAN:\")\n",
        "print(dbscan_cluster_counts)\n",
        "\n",
        "if len(set(dbscan_labels)) > 1 and -1 not in dbscan_labels:\n",
        "    dbscan_silhouette_avg = silhouette_score(data_normalized, dbscan_labels)\n",
        "    print(f\"Średni wskaźnik Silhouette dla DBSCAN: {dbscan_silhouette_avg:.4f}\")\n",
        "else:\n",
        "    print(\"Nie można obliczyć wskaźnika Silhouette dla DBSCAN (za mało klastrów lub obecność outlierów).\")\n"
      ],
      "metadata": {
        "id": "DEd8FhQGJbIr",
        "outputId": "23af6a51-6cf2-4ed5-bf10-e22a5047bce5",
        "colab": {
          "base_uri": "https://localhost:8080/"
        }
      },
      "execution_count": null,
      "outputs": [
        {
          "output_type": "stream",
          "name": "stdout",
          "text": [
            "Ilość genów w każdym klastrze dla DBSCAN:\n",
            " 0    16200\n",
            " 1     3357\n",
            " 2     1497\n",
            "-1      567\n",
            " 4      505\n",
            " 3      121\n",
            "Name: count, dtype: int64\n",
            "Nie można obliczyć wskaźnika Silhouette dla DBSCAN (za mało klastrów lub obecność outlierów).\n"
          ]
        },
        {
          "output_type": "stream",
          "name": "stderr",
          "text": [
            "<ipython-input-12-bbbb4f961d23>:6: SettingWithCopyWarning: \n",
            "A value is trying to be set on a copy of a slice from a DataFrame.\n",
            "Try using .loc[row_indexer,col_indexer] = value instead\n",
            "\n",
            "See the caveats in the documentation: https://pandas.pydata.org/pandas-docs/stable/user_guide/indexing.html#returning-a-view-versus-a-copy\n",
            "  df_filtered.loc[:, 'DBSCAN_Cluster'] = dbscan_labels\n"
          ]
        }
      ]
    }
  ]
}