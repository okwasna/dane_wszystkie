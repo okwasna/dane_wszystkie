{
  "nbformat": 4,
  "nbformat_minor": 0,
  "metadata": {
    "colab": {
      "provenance": [],
      "authorship_tag": "ABX9TyNORjYlXVPVIY4ZtFctNWNg",
      "include_colab_link": true
    },
    "kernelspec": {
      "name": "python3",
      "display_name": "Python 3"
    },
    "language_info": {
      "name": "python"
    }
  },
  "cells": [
    {
      "cell_type": "markdown",
      "metadata": {
        "id": "view-in-github",
        "colab_type": "text"
      },
      "source": [
        "<a href=\"https://colab.research.google.com/github/okwasna/dane_wszystkie/blob/main/dane_wszystkie.ipynb\" target=\"_parent\"><img src=\"https://colab.research.google.com/assets/colab-badge.svg\" alt=\"Open In Colab\"/></a>"
      ]
    },
    {
      "cell_type": "code",
      "execution_count": 42,
      "metadata": {
        "colab": {
          "base_uri": "https://localhost:8080/"
        },
        "id": "f_MEjcx6s94z",
        "outputId": "97db9dd8-5601-458a-bf4f-64f9fcb02748"
      },
      "outputs": [
        {
          "output_type": "stream",
          "name": "stdout",
          "text": [
            "Requirement already satisfied: pandas in /usr/local/lib/python3.10/dist-packages (2.2.2)\n",
            "Requirement already satisfied: numpy>=1.22.4 in /usr/local/lib/python3.10/dist-packages (from pandas) (1.26.4)\n",
            "Requirement already satisfied: python-dateutil>=2.8.2 in /usr/local/lib/python3.10/dist-packages (from pandas) (2.8.2)\n",
            "Requirement already satisfied: pytz>=2020.1 in /usr/local/lib/python3.10/dist-packages (from pandas) (2024.2)\n",
            "Requirement already satisfied: tzdata>=2022.7 in /usr/local/lib/python3.10/dist-packages (from pandas) (2024.2)\n",
            "Requirement already satisfied: six>=1.5 in /usr/local/lib/python3.10/dist-packages (from python-dateutil>=2.8.2->pandas) (1.16.0)\n"
          ]
        }
      ],
      "source": [
        "pip install pandas\n"
      ]
    },
    {
      "cell_type": "code",
      "source": [
        "import numpy as np\n",
        "import pandas as pd\n",
        "from sklearn.cluster import KMeans\n",
        "from sklearn.metrics import silhouette_samples, silhouette_score\n",
        "import seaborn as sns\n",
        "import matplotlib.pyplot as plt\n",
        "import pandas as pd\n",
        "import seaborn as sns\n",
        "import matplotlib.pyplot as plt\n",
        "from sklearn.cluster import KMeans, DBSCAN\n",
        "from sklearn.metrics import silhouette_samples, silhouette_score\n"
      ],
      "metadata": {
        "id": "KcN4QBNK3ukh"
      },
      "execution_count": 43,
      "outputs": []
    },
    {
      "cell_type": "code",
      "source": [
        "\n",
        "# Wczytanie danych z pliku Excel\n",
        "file_path = 'summary_htseq_norm2.xlsx'\n",
        "df = pd.read_excel(file_path, sheet_name='summary_htseq')\n",
        "# Wyświetlenie liczby wszystkich genów przed filtrowaniem\n",
        "print(f\"Liczba genów przed filtrowaniem: {len(df)}\")\n",
        "\n",
        "# Wyświetlenie liczby wszystkich genów przed filtrowaniem\n",
        "print(f\"Liczba genów przed filtrowaniem: {len(df)}\")\n",
        "\n",
        "# Obliczenie średniej i wariancji kolumny 'var' przed filtrowaniem\n",
        "mean_before_filtering = df['var'].mean()\n",
        "variance_before_filtering = df['var'].var()\n",
        "\n",
        "print(f\"Średnia wariancji przed filtrowaniem: {mean_before_filtering}\")\n",
        "print(f\"Wariancja przed filtrowaniem: {variance_before_filtering}\")\n",
        "\n",
        "# Krok 1: Filtrowanie genów o niskiej wariancji\n",
        "# Ustalmy próg wariancji na 10 - odrzucamy geny poniżej tej wartości\n",
        "variance_threshold = 10\n",
        "\n",
        "# Filtrowanie genów o wariancji poniżej progu\n",
        "df_filtered = df[df['var'] >= variance_threshold]\n",
        "\n",
        "# Obliczenie średniej i wariancji kolumny 'var' po filtrowaniu\n",
        "mean_after_filtering = df_filtered['var'].mean()\n",
        "variance_after_filtering = df_filtered['var'].var()\n",
        "\n",
        "print(f\"Średnia wariancji po filtrowaniu: {mean_after_filtering}\")\n",
        "print(f\"Wariancja po filtrowaniu: {variance_after_filtering}\")\n",
        "\n",
        "# Zliczenie ilości genów dla lncRNA przed filtrowaniem\n",
        "initial_counts = df['lncRNA'].value_counts()\n",
        "\n",
        "# Zliczenie ilości genów dla lncRNA po filtrowaniu\n",
        "filtered_counts = df_filtered['lncRNA'].value_counts()\n",
        "\n",
        "# Obliczenie liczby usuniętych genów z lncRNA 0 i 1\n",
        "removed_counts = initial_counts - filtered_counts\n",
        "\n",
        "# Wyświetlenie liczby usuniętych genów osobno dla lncRNA = 0 i lncRNA = 1\n",
        "removed_0 = removed_counts.get(0, 0)\n",
        "removed_1 = removed_counts.get(1, 0)\n",
        "\n",
        "print(f\"Liczba genów usuniętych z lncRNA = 0: {removed_0}\")\n",
        "print(f\"Liczba genów usuniętych z lncRNA = 1: {removed_1}\")\n",
        "\n",
        "# Wyświetlenie łącznej liczby genów po filtrowaniu\n",
        "total_genes_after_filtering = len(df_filtered)\n",
        "print(f\"Łączna liczba genów po filtrowaniu: {total_genes_after_filtering}\")"
      ],
      "metadata": {
        "colab": {
          "base_uri": "https://localhost:8080/"
        },
        "id": "RysLK56jtWCf",
        "outputId": "00e18f1a-cd58-4164-b92f-32df83875853"
      },
      "execution_count": 44,
      "outputs": [
        {
          "output_type": "stream",
          "name": "stdout",
          "text": [
            "Liczba genów przed filtrowaniem: 28677\n",
            "Liczba genów przed filtrowaniem: 28677\n",
            "Średnia wariancji przed filtrowaniem: 83837021.10925484\n",
            "Wariancja przed filtrowaniem: 1.4257388777828288e+20\n",
            "Średnia wariancji po filtrowaniu: 108068243.92073244\n",
            "Wariancja po filtrowaniu: 1.837809291273408e+20\n",
            "Liczba genów usuniętych z lncRNA = 0: 3473\n",
            "Liczba genów usuniętych z lncRNA = 1: 2957\n",
            "Łączna liczba genów po filtrowaniu: 22247\n"
          ]
        }
      ]
    },
    {
      "cell_type": "code",
      "source": [
        "\n",
        "# Wyświetlenie liczby próbek (kolumn) i liczby genów (wierszy) branych pod uwagę\n",
        "print(f\"Liczba próbek (kolumn) branych pod uwagę: {data_values.shape[1]}\")\n",
        "print(f\"Liczba genów (wierszy) branych pod uwagę po wybraniu próbek: {data_values.shape[0]}\")\n"
      ],
      "metadata": {
        "id": "6jeuosmfIGXa",
        "outputId": "8ce22b20-3ec6-480a-da42-09f99cfaf177",
        "colab": {
          "base_uri": "https://localhost:8080/"
        }
      },
      "execution_count": 53,
      "outputs": [
        {
          "output_type": "stream",
          "name": "stdout",
          "text": [
            "Liczba próbek (kolumn) branych pod uwagę: 33\n",
            "Liczba genów (wierszy) branych pod uwagę po wybraniu próbek: 22247\n"
          ]
        }
      ]
    },
    {
      "cell_type": "code",
      "source": [
        "\n",
        "# Wybór kolumn zaczynających się od 'SRR7451446'\n",
        "# Zakładamy, że 'SRR7451446' to nazwa kolumny, a próbki znajdują się w kolumnach\n",
        "data_values = df_filtered.loc[:, 'SRR7451446':]  # Wybieramy wszystkie kolumny od 'SRR7451446'\n",
        "\n",
        "# Wyświetlenie liczby próbek (kolumn) i liczby genów (wierszy) branych pod uwagę\n",
        "print(f\"Liczba próbek (kolumn) branych pod uwagę: {data_values.shape[1]}\")\n",
        "print(f\"Liczba genów (wierszy) branych pod uwagę po wybraniu próbek: {data_values.shape[0]}\")\n",
        "\n",
        "# Normalizacja danych (wierszy - genów)\n",
        "scaler = StandardScaler()\n",
        "data_normalized = scaler.fit_transform(data_values)\n",
        "\n",
        "# KMeans dla 40 klastrów\n",
        "n_clusters = 40\n",
        "kmeans = KMeans(n_clusters=n_clusters, random_state=42)\n",
        "kmeans.fit(data_normalized)\n",
        "\n",
        "# Dodanie kolumny z wynikami KMeans do oryginalnej ramki danych\n",
        "df_filtered.loc[:, f'Cluster_{n_clusters}'] = kmeans.labels_\n",
        "\n",
        "# Obliczenie wskaźnika Silhouette\n",
        "silhouette_avg = silhouette_score(data_normalized, kmeans.labels_)\n",
        "print(f\"Średni wskaźnik Silhouette dla {n_clusters} klastrów: {silhouette_avg:.4f}\")\n",
        "\n",
        "# Zliczenie ilości genów w każdym klastrze\n",
        "cluster_counts = df_filtered[f'Cluster_{n_clusters}'].value_counts()\n",
        "print(f\"Ilość genów w każdym klastrze dla {n_clusters} klastrów:\")\n",
        "print(cluster_counts)\n",
        "\n",
        "# Wyświetlenie całkowitej liczby genów, które zostały przypisane do klastrów\n",
        "print(f\"Całkowita liczba genów przypisanych do klastrów: {len(df_filtered)}\")\n",
        "\n",
        "# Zapisanie wyników do nowego pliku Excel\n",
        "df_filtered.to_excel('summary_htseq_with_40_clusters.xlsx', index=False)"
      ],
      "metadata": {
        "colab": {
          "base_uri": "https://localhost:8080/"
        },
        "id": "BYqazI-83pvP",
        "outputId": "1deb8d65-21b5-4a78-f4ce-ee891705fb99"
      },
      "execution_count": 54,
      "outputs": [
        {
          "output_type": "stream",
          "name": "stdout",
          "text": [
            "Liczba próbek (kolumn) branych pod uwagę: 33\n",
            "Liczba genów (wierszy) branych pod uwagę po wybraniu próbek: 22247\n",
            "Średni wskaźnik Silhouette dla 40 klastrów: 0.9417\n",
            "Ilość genów w każdym klastrze dla 40 klastrów:\n",
            "Cluster_40\n",
            "0     14768\n",
            "3      2848\n",
            "25     1264\n",
            "10      601\n",
            "18      563\n",
            "11      521\n",
            "6       455\n",
            "14      289\n",
            "19      142\n",
            "26      135\n",
            "9       124\n",
            "33      104\n",
            "30       90\n",
            "29       65\n",
            "28       63\n",
            "38       45\n",
            "2        45\n",
            "37       39\n",
            "22       21\n",
            "27       11\n",
            "39       10\n",
            "36        9\n",
            "32        7\n",
            "12        6\n",
            "20        5\n",
            "35        3\n",
            "16        1\n",
            "4         1\n",
            "13        1\n",
            "23        1\n",
            "8         1\n",
            "24        1\n",
            "31        1\n",
            "1         1\n",
            "5         1\n",
            "34        1\n",
            "17        1\n",
            "21        1\n",
            "15        1\n",
            "7         1\n",
            "Name: count, dtype: int64\n",
            "Całkowita liczba genów przypisanych do klastrów: 22247\n"
          ]
        }
      ]
    },
    {
      "cell_type": "code",
      "source": [
        "\n",
        "# Wyświetlenie liczby próbek (kolumn) i liczby genów (wierszy) branych pod uwagę\n",
        "print(f\"Liczba próbek (kolumn) branych pod uwagę: {data_values.shape[1]}\")\n",
        "print(f\"Liczba genów (wierszy) branych pod uwagę po wybraniu próbek: {data_values.shape[0]}\")\n"
      ],
      "metadata": {
        "id": "00Xw45FTICRL",
        "outputId": "773cf90c-efeb-4c5b-e5af-7a8bb7fa8ab3",
        "colab": {
          "base_uri": "https://localhost:8080/"
        }
      },
      "execution_count": 52,
      "outputs": [
        {
          "output_type": "stream",
          "name": "stdout",
          "text": [
            "Liczba próbek (kolumn) branych pod uwagę: 33\n",
            "Liczba genów (wierszy) branych pod uwagę po wybraniu próbek: 22247\n"
          ]
        }
      ]
    },
    {
      "cell_type": "code",
      "source": [
        "#zrobić wizualizacje (heatmapa + wykres)"
      ],
      "metadata": {
        "id": "42o8FgmtPdMm"
      },
      "execution_count": null,
      "outputs": []
    },
    {
      "cell_type": "code",
      "source": [
        "from sklearn.cluster import AgglomerativeClustering\n",
        "from sklearn.metrics import silhouette_score\n",
        "\n",
        "# Agglomerative Clustering dla 40 klastrów\n",
        "agg_clustering = AgglomerativeClustering(n_clusters=40)\n",
        "agg_labels = agg_clustering.fit_predict(data_normalized)\n",
        "\n",
        "# Dodanie kolumny z wynikami Agglomerative Clustering do ramki danych\n",
        "df_filtered.loc[:, 'Agg_Cluster_40'] = agg_labels\n",
        "\n",
        "# Obliczenie wskaźnika Silhouette dla Agglomerative Clustering\n",
        "agg_silhouette_avg = silhouette_score(data_normalized, agg_labels)\n",
        "print(f\"Średni wskaźnik Silhouette dla Agglomerative Clustering (40 klastrów): {agg_silhouette_avg:.4f}\")\n",
        "\n",
        "# Zliczenie ilości genów w każdym klastrze dla Agglomerative Clustering\n",
        "agg_cluster_counts = pd.Series(agg_labels).value_counts()\n",
        "print(f\"Ilość genów w każdym klastrze dla Agglomerative Clustering (40 klastrów):\")\n",
        "print(agg_cluster_counts)\n"
      ],
      "metadata": {
        "id": "Kc_01dNuI_Lm",
        "outputId": "41c69479-3f6f-450c-eaa3-8b16ded0ec34",
        "colab": {
          "base_uri": "https://localhost:8080/"
        }
      },
      "execution_count": 56,
      "outputs": [
        {
          "output_type": "stream",
          "name": "stderr",
          "text": [
            "<ipython-input-56-a15933a8186c>:9: SettingWithCopyWarning: \n",
            "A value is trying to be set on a copy of a slice from a DataFrame.\n",
            "Try using .loc[row_indexer,col_indexer] = value instead\n",
            "\n",
            "See the caveats in the documentation: https://pandas.pydata.org/pandas-docs/stable/user_guide/indexing.html#returning-a-view-versus-a-copy\n",
            "  df_filtered.loc[:, 'Agg_Cluster_40'] = agg_labels\n"
          ]
        },
        {
          "output_type": "stream",
          "name": "stdout",
          "text": [
            "Średni wskaźnik Silhouette dla Agglomerative Clustering (40 klastrów): 0.9416\n",
            "Ilość genów w każdym klastrze dla Agglomerative Clustering (40 klastrów):\n",
            "13    14768\n",
            "23     2848\n",
            "37     1264\n",
            "12      601\n",
            "14      563\n",
            "30      521\n",
            "28      455\n",
            "24      289\n",
            "32      142\n",
            "6       135\n",
            "11      124\n",
            "17      104\n",
            "16       90\n",
            "2        78\n",
            "15       65\n",
            "25       63\n",
            "38       43\n",
            "5        27\n",
            "10       10\n",
            "0         9\n",
            "18        9\n",
            "1         8\n",
            "8         6\n",
            "3         4\n",
            "9         3\n",
            "7         3\n",
            "4         2\n",
            "34        1\n",
            "33        1\n",
            "26        1\n",
            "29        1\n",
            "36        1\n",
            "31        1\n",
            "35        1\n",
            "20        1\n",
            "22        1\n",
            "39        1\n",
            "27        1\n",
            "19        1\n",
            "21        1\n",
            "Name: count, dtype: int64\n"
          ]
        }
      ]
    },
    {
      "cell_type": "code",
      "source": [
        "from sklearn.cluster import DBSCAN\n",
        "\n",
        "# DBSCAN - nie musimy podawać liczby klastrów, ale parametry epsilon i min_samples\n",
        "dbscan_clustering = DBSCAN(eps=0.5, min_samples=10)\n",
        "dbscan_labels = dbscan_clustering.fit_predict(data_normalized)\n",
        "\n",
        "# Dodanie kolumny z wynikami DBSCAN do ramki danych\n",
        "df_filtered.loc[:, 'DBSCAN_Cluster'] = dbscan_labels\n",
        "\n",
        "# Zliczenie ilości genów w każdym klastrze dla DBSCAN\n",
        "dbscan_cluster_counts = pd.Series(dbscan_labels).value_counts()\n",
        "print(f\"Ilość genów w każdym klastrze dla DBSCAN:\")\n",
        "print(dbscan_cluster_counts)\n",
        "\n",
        "# Obliczenie wskaźnika Silhouette dla DBSCAN (jeśli są więcej niż 1 klaster i nie są outliery)\n",
        "if len(set(dbscan_labels)) > 1 and -1 not in dbscan_labels:\n",
        "    dbscan_silhouette_avg = silhouette_score(data_normalized, dbscan_labels)\n",
        "    print(f\"Średni wskaźnik Silhouette dla DBSCAN: {dbscan_silhouette_avg:.4f}\")\n",
        "else:\n",
        "    print(\"Nie można obliczyć wskaźnika Silhouette dla DBSCAN (za mało klastrów lub obecność outlierów).\")\n"
      ],
      "metadata": {
        "id": "DEd8FhQGJbIr",
        "outputId": "6bd06344-9cc7-44f1-bc68-faf16bfc18a5",
        "colab": {
          "base_uri": "https://localhost:8080/"
        }
      },
      "execution_count": 57,
      "outputs": [
        {
          "output_type": "stream",
          "name": "stdout",
          "text": [
            "Ilość genów w każdym klastrze dla DBSCAN:\n",
            " 0     14768\n",
            " 1      2847\n",
            " 2      1262\n",
            " 7       585\n",
            " 3       558\n",
            "-1       539\n",
            " 4       521\n",
            " 5       455\n",
            " 9       250\n",
            " 11      134\n",
            " 13       82\n",
            " 6        73\n",
            " 10       52\n",
            " 12       51\n",
            " 14       37\n",
            " 8        19\n",
            " 15       14\n",
            "Name: count, dtype: int64\n",
            "Nie można obliczyć wskaźnika Silhouette dla DBSCAN (za mało klastrów lub obecność outlierów).\n"
          ]
        },
        {
          "output_type": "stream",
          "name": "stderr",
          "text": [
            "<ipython-input-57-ee26e012b907>:8: SettingWithCopyWarning: \n",
            "A value is trying to be set on a copy of a slice from a DataFrame.\n",
            "Try using .loc[row_indexer,col_indexer] = value instead\n",
            "\n",
            "See the caveats in the documentation: https://pandas.pydata.org/pandas-docs/stable/user_guide/indexing.html#returning-a-view-versus-a-copy\n",
            "  df_filtered.loc[:, 'DBSCAN_Cluster'] = dbscan_labels\n"
          ]
        }
      ]
    }
  ]
}